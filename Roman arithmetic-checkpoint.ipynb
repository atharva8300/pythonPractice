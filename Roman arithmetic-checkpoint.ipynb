{
 "cells": [
  {
   "cell_type": "code",
   "execution_count": 13,
   "metadata": {},
   "outputs": [],
   "source": [
    "def number(num):\n",
    "    if(num==1):\n",
    "        print(\"I\")\n",
    "    elif(num==5):\n",
    "        print(\"V\")\n",
    "    elif(num==10):\n",
    "        print(\"X\")\n",
    "    elif(num==50):\n",
    "        print(\"L\")\n",
    "    elif(num==100):\n",
    "        print(\"C\")\n",
    "    elif(num==500):\n",
    "        print(\"D\")\n",
    "    elif(num==1000):\n",
    "        print(\"M\")\n",
    "    else:\n",
    "\n",
    "\n",
    "        while(num>=900):\n",
    "            if(num>=900 and num<1000):\n",
    "                print(\"C\",end=\"\")\n",
    "                num=num+100\n",
    "            print(\"M\",end=\"\")\n",
    "            num=num-1000\n",
    "\n",
    "        while(num>=400):\n",
    "            if(num>=400 and num<500):\n",
    "                print(\"C\",end=\"\")\n",
    "                num=num+100\n",
    "            print(\"D\",end=\"\")\n",
    "            num=num-500\n",
    "\n",
    "\n",
    "        while(num>=90):\n",
    "            if(num>=90 and num<100):\n",
    "                print(\"X\",end=\"\")\n",
    "                num=num+10\n",
    "            print(\"C\",end=\"\")\n",
    "            num=num-100\n",
    "\n",
    "        while(num>=40):\n",
    "            if(num>=40 and num<50):\n",
    "                print(\"X\",end=\"\")\n",
    "                num=num+10\n",
    "            print(\"L\",end=\"\")\n",
    "            num=num-50\n",
    "\n",
    "\n",
    "\n",
    "        while(num>=9):\n",
    "            if(num==9):\n",
    "                print(\"I\",end=\"\")\n",
    "                num=num+1\n",
    "            print(\"X\",end=\"\")\n",
    "            num=num-10\n",
    "\n",
    "\n",
    "\n",
    "        while(num>=4):\n",
    "            if(num==4):\n",
    "                print(\"I\",end=\"\")\n",
    "                num=num+1\n",
    "            print(\"V\",end=\"\")\n",
    "            num=num-5\n",
    "\n",
    "\n",
    "        while(num>=1):\n",
    "            print(\"I\",end=\"\")\n",
    "            num=num-1\n",
    "\n",
    "    "
   ]
  },
  {
   "cell_type": "code",
   "execution_count": 14,
   "metadata": {},
   "outputs": [],
   "source": [
    "def roman(rom):\n",
    "    num=0\n",
    "    for i in range(len((rom))):\n",
    "        if rom[i]==\"I\":\n",
    "            num=num+1\n",
    "        elif rom[i]==\"V\":\n",
    "            if rom[i-1]==\"I\"and i!=0:\n",
    "                num=num+3\n",
    "            else:\n",
    "                num=num+5\n",
    "        elif rom[i]==\"X\":\n",
    "            if rom[i-1]==\"I\"and i!=0:\n",
    "                num=num+8\n",
    "            else:\n",
    "                num=num+10\n",
    "        elif rom[i]==\"L\":\n",
    "            if rom[i-1]==\"X\"and i!=0:\n",
    "                num=num+30\n",
    "            else:\n",
    "                num=num+50\n",
    "        elif rom[i]==\"C\":\n",
    "            if rom[i-1]==\"X\"and i!=0:\n",
    "                num=num+80\n",
    "            else:\n",
    "                num=num+100\n",
    "        elif rom[i]==\"D\":\n",
    "            if rom[i-1]==\"C\"and i!=0:\n",
    "                num=num+300\n",
    "            else:\n",
    "                num=num+500\n",
    "        elif rom[i]==\"M\":\n",
    "            if rom[i-1]==\"C\"and i!=0:\n",
    "                num=num+800\n",
    "            else:\n",
    "                num=num+1000\n",
    "    return num\n",
    "    \n",
    "\n",
    "\n"
   ]
  },
  {
   "cell_type": "code",
   "execution_count": 15,
   "metadata": {},
   "outputs": [
    {
     "data": {
      "text/plain": [
       "179"
      ]
     },
     "execution_count": 15,
     "metadata": {},
     "output_type": "execute_result"
    }
   ],
   "source": [
    "roman(\"CLXXIX\")"
   ]
  },
  {
   "cell_type": "code",
   "execution_count": 16,
   "metadata": {},
   "outputs": [
    {
     "name": "stdout",
     "output_type": "stream",
     "text": [
      "CLXXIX"
     ]
    }
   ],
   "source": [
    "number(179)"
   ]
  },
  {
   "cell_type": "code",
   "execution_count": 18,
   "metadata": {},
   "outputs": [
    {
     "name": "stdout",
     "output_type": "stream",
     "text": [
      "Enter first numberX\n",
      "Enter second numberV\n",
      "Which operation do you want to perform 1. Add 2.Subtract 3. Multiply 4. Divide4\n",
      "II"
     ]
    }
   ],
   "source": [
    "a=input(\"Enter first number\")\n",
    "b=input(\"Enter second number\")\n",
    "c=input(\"Which operation do you want to perform 1. Add 2.Subtract 3. Multiply 4. Divide\")\n",
    "a=roman(a)\n",
    "b=roman(b)\n",
    "if(c==\"1\"):\n",
    "    total=a+b\n",
    "elif(c==\"2\"):\n",
    "    total=a-b\n",
    "elif(c==\"3\"):\n",
    "    total=a*b\n",
    "elif(c==\"4\"):\n",
    "    total=a/b\n",
    "number(total)\n"
   ]
  },
  {
   "cell_type": "code",
   "execution_count": null,
   "metadata": {},
   "outputs": [],
   "source": []
  }
 ],
 "metadata": {
  "kernelspec": {
   "display_name": "Python 3",
   "language": "python",
   "name": "python3"
  },
  "language_info": {
   "codemirror_mode": {
    "name": "ipython",
    "version": 3
   },
   "file_extension": ".py",
   "mimetype": "text/x-python",
   "name": "python",
   "nbconvert_exporter": "python",
   "pygments_lexer": "ipython3",
   "version": "3.7.3"
  }
 },
 "nbformat": 4,
 "nbformat_minor": 2
}
